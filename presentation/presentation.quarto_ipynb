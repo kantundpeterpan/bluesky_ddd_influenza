{
  "cells": [
    {
      "cell_type": "markdown",
      "metadata": {},
      "source": [
        "---\n",
        "title: \"Beyond twitter\"\n",
        "subtitle: \"Exploring `bluesky.social` for digital disease detection and prototyping a data extraction pipeline for ILI surveillance\"\n",
        "author: \"Heiner Atze, MSc, PhD\"\n",
        "institute: Digital Epidemiology 2025, Hasselt University\n",
        "date: \"April 10, 2025\"\n",
        "format:\n",
        "  revealjs: \n",
        "    theme: default\n",
        "    reference-location: margin\n",
        "    preview-links: true\n",
        "    toc: false\n",
        "    toc-title: Outline\n",
        "    incremental: false\n",
        "    scrollable: true\n",
        "\n",
        "  beamer:\n",
        "    toc: true\n",
        "    toc-title: Outlininglines\n",
        "    theme: Hannover\n",
        "    slide-level: 2\n",
        "    aspectratio: 169\n",
        "    pdf-engine: tectonic\n",
        "    incremental: false\n",
        "\n",
        "jupyter: digepi\n",
        "execute: \n",
        "  cache: false \n",
        "  echo: false\n",
        "  output: false\n",
        "\n",
        "bibliography: \"../../dig_epi.bib\"\n",
        "---"
      ],
      "id": "9d515577"
    },
    {
      "cell_type": "code",
      "metadata": {},
      "source": [
        "#| label: imports\n",
        "#| echo: false\n",
        "#| output: false\n",
        "from google.oauth2 import service_account\n",
        "import pandas as pd\n",
        "import matplotlib.pyplot as plt\n",
        "import pandas_gbq\n",
        "import sys\n",
        "import os\n",
        "sys.path.append(os.path.abspath(\"../\"))\n",
        "from analysis.bq_queries import get_post_count_ili_sql, get_llm_ili_sql\n",
        "from analysis.feature_eng import *\n",
        "from analysis.model_evaluation import *\n",
        "credentials = service_account.Credentials.from_service_account_file(\n",
        "    '../.gc_creds/digepizcde-71333237bf40.json')"
      ],
      "id": "imports",
      "execution_count": null,
      "outputs": []
    },
    {
      "cell_type": "code",
      "metadata": {},
      "source": [
        "#| label: sql_raw_post counts\n",
        "#| output: false\n",
        "\n",
        "who_subset = 'flunet'\n",
        "lang = 'fr'#'fr'\n",
        "country_code = 'FRA' #\"FRA\"\n",
        "\n",
        "ili_kws = [\n",
        "    'grippe',  'rhume', 'fievre', 'courbature'\n",
        "    # \"Grippe\", 'grippe', 'Schnupfen', 'Fieber', 'Muskelschmerzen'\n",
        "]\n",
        "ili_kws_sql = [f\"'{x}'\" for x in ili_kws]"
      ],
      "id": "sql_raw_post-counts",
      "execution_count": null,
      "outputs": []
    },
    {
      "cell_type": "code",
      "metadata": {},
      "source": [
        "control_kws = ['travail', 'voiture', 'demain', 'sommeil']\n",
        "# control_kws = ['Auto', 'morgen', 'Arbeit', 'arbeiten', 'schlafen', 'Schlaf']\n",
        "control_kws_sql = [f\"'{x}'\" for x in control_kws]"
      ],
      "id": "7d8fa4e5",
      "execution_count": null,
      "outputs": []
    },
    {
      "cell_type": "code",
      "metadata": {},
      "source": [
        "post_count_ili_sql =\"SELECT * FROM `digepizcde.bsky_ili.bsky_ili_fr`\""
      ],
      "id": "aae6e3f3",
      "execution_count": null,
      "outputs": []
    },
    {
      "cell_type": "code",
      "metadata": {},
      "source": [
        "#| echo: false\n",
        "#| output: false\n",
        "post_count_ili_df = pandas_gbq.read_gbq(\n",
        "   post_count_ili_sql, credentials=credentials\n",
        ").set_index('date')\n",
        "post_count_ili_df.index = pd.to_datetime(post_count_ili_df.index)"
      ],
      "id": "9ce671f8",
      "execution_count": null,
      "outputs": []
    },
    {
      "cell_type": "code",
      "metadata": {},
      "source": [
        "post_count_ili_df['year'] = post_count_ili_df.index.year.astype(\"category\")\n",
        "post_count_ili_df['month'] = post_count_ili_df.index.month.astype(\"category\")\n",
        "post_count_ili_df['week'] = post_count_ili_df.index.isocalendar().week.astype(\"category\")\n",
        "post_count_ili_df['season'] = post_count_ili_df['month'].apply(assign_season).astype(\"category\")"
      ],
      "id": "f6678377",
      "execution_count": null,
      "outputs": []
    },
    {
      "cell_type": "code",
      "metadata": {},
      "source": [
        "lags = 2\n",
        "weeks_ahead = 1\n",
        "X = post_count_ili_df.drop([\n",
        "    'ili_case', 'ari_case', 'ili_incidence', 'ari_incidence',\n",
        "    'norm_post_count', 'rest_posts'], axis = 1)\n",
        "lagdfs = []\n",
        "\n",
        "for l in range(1, lags+1):\n",
        "    lagdf = X.shift(l)\n",
        "    lagdf.columns = [f\"{c}_lag{l}\" for c in lagdf.columns]\n",
        "    lagdfs.append(lagdf)\n",
        "\n",
        "X = pd.concat([X, *lagdfs], axis = 1).dropna().iloc[:-weeks_ahead,:]"
      ],
      "id": "3d2e43d0",
      "execution_count": null,
      "outputs": []
    },
    {
      "cell_type": "code",
      "metadata": {},
      "source": [
        "y = post_count_ili_df['ili_incidence'].iloc[lags+weeks_ahead:]\n",
        "y = y.divide(y.max())"
      ],
      "id": "29199c29",
      "execution_count": null,
      "outputs": []
    },
    {
      "cell_type": "code",
      "metadata": {},
      "source": [
        "from sklearn.ensemble import HistGradientBoostingRegressor\n",
        "from sklearn.model_selection import TimeSeriesSplit\n",
        "from sklearn.model_selection import cross_validate\n",
        "from sklearn.pipeline import make_pipeline"
      ],
      "id": "5765ffaa",
      "execution_count": null,
      "outputs": []
    },
    {
      "cell_type": "code",
      "metadata": {},
      "source": [
        "ts_cv = TimeSeriesSplit(\n",
        "    n_splits=5,\n",
        "    gap=0,\n",
        "    max_train_size=100,\n",
        "    test_size=10,\n",
        ")"
      ],
      "id": "5c31fafc",
      "execution_count": null,
      "outputs": []
    },
    {
      "cell_type": "code",
      "metadata": {},
      "source": [
        "gbrt = HistGradientBoostingRegressor(categorical_features=\"from_dtype\", random_state=42)\n",
        "categorical_columns = X.columns[X.dtypes == \"category\"]\n",
        "print(\"Categorical features:\", categorical_columns.tolist())"
      ],
      "id": "225a29ee",
      "execution_count": null,
      "outputs": []
    },
    {
      "cell_type": "code",
      "metadata": {},
      "source": [
        "# evaluate(gbrt, X, y, cv=ts_cv, model_prop=\"n_iter_\")\n",
        "# gbrt.fit(X, y)"
      ],
      "id": "d0ed7a7b",
      "execution_count": null,
      "outputs": []
    },
    {
      "cell_type": "code",
      "metadata": {},
      "source": [
        "ypred = pd.Series(gbrt.predict(X), index = y.index) "
      ],
      "id": "e2eb9dc7",
      "execution_count": null,
      "outputs": []
    },
    {
      "cell_type": "code",
      "metadata": {},
      "source": [
        "y.plot()\n",
        "ypred.plot()"
      ],
      "id": "7358c46c",
      "execution_count": null,
      "outputs": []
    },
    {
      "cell_type": "code",
      "metadata": {},
      "source": [
        "month_splines = periodic_spline_transformer(12,6) \\\n",
        "    .fit_transform(post_count_ili_df[['month']])\n",
        "\n",
        "# Create a dataframe for the splines\n",
        "month_splines_df = pd.DataFrame(\n",
        "    month_splines, \n",
        "    index=post_count_ili_df.index,\n",
        "     columns=[f'month_spline_{i}' for i in range(month_splines.shape[1])])\n",
        "\n",
        "# Concatenate the splines with the original dataframe\n",
        "post_count_ili_df = pd.concat([post_count_ili_df, month_splines_df], axis=1)"
      ],
      "id": "b5483063",
      "execution_count": null,
      "outputs": []
    },
    {
      "cell_type": "code",
      "metadata": {},
      "source": [
        "week_splines = periodic_spline_transformer(54, 27) \\\n",
        "    .fit_transform(post_count_ili_df[['week']])\n",
        "\n",
        "# Create a dataframe for the splines\n",
        "week_splines_df = pd.DataFrame(\n",
        "    week_splines, \n",
        "    index=post_count_ili_df.index,\n",
        "     columns=[f'week_spline_{i}' for i in range(week_splines.shape[1])])\n",
        "\n",
        "# Concatenate the splines with the original dataframe\n",
        "post_count_ili_df = pd.concat([post_count_ili_df, week_splines_df], axis=1)"
      ],
      "id": "fa20ed85",
      "execution_count": null,
      "outputs": []
    },
    {
      "cell_type": "code",
      "metadata": {},
      "source": [
        "llm_ili_sql = get_llm_ili_sql(\n",
        "    ili_kws, lang, country_code\n",
        ")"
      ],
      "id": "77d8f217",
      "execution_count": null,
      "outputs": []
    },
    {
      "cell_type": "code",
      "metadata": {},
      "source": [
        "#| echo: false\n",
        "#| output: false\n",
        "llm_ili_df = pandas_gbq.read_gbq(\n",
        "    llm_ili_sql, credentials=credentials \n",
        ").set_index('date')\n",
        "llm_ili_df.index = pd.to_datetime(llm_ili_df.index)"
      ],
      "id": "abd58e60",
      "execution_count": null,
      "outputs": []
    },
    {
      "cell_type": "markdown",
      "metadata": {},
      "source": [
        "# Introduction\n",
        "\n",
        "## `bluesky`: general aspects\n",
        "\n",
        "::: {.columns}\n",
        "\n",
        ":::: {.column}\n",
        "\n",
        "- microblogging platform \n",
        "- similar to `twitter` in user experience\n",
        "- decentralized \n",
        "- open source\n",
        "\n",
        "::::\n",
        "\n",
        ":::: {.column}\n",
        "\n",
        "![](./figures/bluesky_logo.png)\n",
        "\n",
        "::::\n",
        "\n",
        ":::\n",
        "\n",
        "## Decentralization and Democratization of content algorithms [^longnote]\n",
        "\n",
        "- Decentralized User Identifier (DID)\n",
        "  - immutable, associated with human readable user handle\n",
        "- Personal Data servers (PSDs)\n",
        "\n",
        "- DIDs and affiliated contents are portable between PSDs \n",
        "- Users can choose, prioritize and develop feed generators and content labelers\n",
        "\n",
        "[^longnote]: @balduf2024looking\n",
        "\n",
        "## Development of user activity [^ref1]\n",
        "\n",
        "::: {.columns}\n",
        "\n",
        "::: {.column}\n",
        "\n",
        "- current estimate: ca. 33 Millions active users\n",
        "- user base expanded in bursts after key events:\n",
        "  - 2022: acquisition of `twitter` by Elon Musk\n",
        "  - 2024: ban of `X` in Brazil, presidential election in the US\n",
        "\n",
        ":::\n",
        "\n",
        ":::: {.column}\n",
        "\n",
        "![](./figures/bsky_guardian.png)\n",
        "\n",
        "::::\n",
        "\n",
        "::: \n",
        "\n",
        "[^ref1]: @explodingtopicsBlueskyUser, @balduf2024looking\n",
        "\n",
        "## Literature addressing `bluesky`\n",
        "\n",
        "- Google scholar search : \"bluesky\" AND \"social\" since 2022\n",
        "- 43 articles\n",
        "\n",
        "- main topics: \n",
        "  - decentralized social network architecture\n",
        "  - user migration from `X` to `bluesky` 2024\n",
        "  - network structure and dynamics\n",
        "\n",
        "- no results for \n",
        "  - \"bluesky\" AND \"disease\"\n",
        "  - \"bluesky\" AND \"epidemiology\"\n",
        "\n",
        "# Exploration of bluesky data\n",
        "\n",
        "## bluesky API\n",
        "\n",
        "- publicly accessible for free\n",
        "- extensive documenation at https://docs.bsky.app/docs/category/http-reference\n",
        "\n",
        "## `searchPosts` API method\n",
        "\n",
        "- [API documentation](https://docs.bsky.app/docs/api/app-bsky-feed-search-posts)\n",
        "\n",
        "- selected parameters:\n",
        "  - `q`: search query\n",
        "  - `since`, `until`: defining search period  \n",
        "\n",
        "- deterministic search\n",
        "- allows exhaustive sampling\n",
        "\n",
        "## `getProfiles`\n",
        "\n",
        "- allows to retrieve the author profile information\n",
        "- for reference, not used in this project\n",
        "\n",
        "## Post metadata\n",
        "\n",
        "- defined in the [SDK documentation](https://atproto.blue/en/latest/atproto/atproto_client.models.app.bsky.feed.defs.html#atproto_client.models.app.bsky.feed.defs.PostView)\n",
        "\n",
        "- fields (selection):\n",
        "  - `uri`: unique post identifier\n",
        "  - `author`: contains `did` which allows to retrieve user profile\n",
        "  - `record`: contains the text and time information of the message\n",
        "  - `embedded`: any embedded media (images, other posts, etc ...)\n",
        "\n",
        "- in contrary to former `twitter` post metadata, no geoinformation\n",
        "\n",
        "## User information\n",
        "\n",
        "- `Feedgens`\n",
        "- `Labelers`\n",
        "\n",
        "- no geo information\n",
        "\n",
        "# Project\n",
        "\n",
        "## Outline\n",
        "\n",
        "**`bluesky` post data for digital disease surveillance**\n",
        "\n",
        ". . .\n",
        "\n",
        "**Implementation of a continuous surveillance pipeline**\n",
        "\n",
        "# Methods\n",
        "\n",
        "# Data extraction\n",
        "\n",
        "## Symptom related message extraction\n",
        "\n",
        "- focused on French `bluesky` posts (data volume constraint)\n",
        "- extraction using list of keywords\n",
        "  - grippe (flu, influenza)\n",
        "  - rhume (common cold)\n",
        "  - fievre (fever)\n",
        "  - courbature (muscle pain)\n",
        "\n",
        "- extraction of \n",
        "  - complete message data for further language processing\n",
        "  - \n",
        "\n",
        "## Basal network activity\n",
        "\n",
        "- probing of the basal network activity using keywords\n",
        "  - travail (*work*)\n",
        "  - demain (*tomorrow*)\n",
        "  - voiture (*car*)\n",
        "  - sommeil (*sleep*)\n",
        "\n",
        "- post counts aggregated by day\n",
        "\n",
        "## Case data\n",
        "\n",
        "  - data downloaded from `WHO Flumart`\n",
        "    = FluID: ILI  case data\n",
        "    - FluNet: virological data\n",
        "\n",
        "## Data processing for time series extraction\n",
        "\n",
        "- Normalization of ILI post counts by basal network activity\n",
        "- \n",
        "\n",
        "- LLM\n",
        "- [ECDC case definition](https://eur-lex.europa.eu/legal-content/EN/TXT/PDF/?uri=CELEX:32018D0945&from=EN#page=24)\n",
        "  - LLM vs. random post selection\n",
        "\n",
        "# Results\n",
        "\n",
        "## Raw post counts\n",
        "\n",
        "::: {.columns}\n",
        "\n",
        "::: {.column}\n"
      ],
      "id": "6219aeb8"
    },
    {
      "cell_type": "code",
      "metadata": {},
      "source": [
        "#| output: true\n",
        "ax1 = post_count_ili_df.plot( y = 'grippe_posts', color = 'C0')\n",
        "ax1.set_ylabel(\"bsky post counts\", color = 'C0')\n",
        "ax1.set_xlabel(\"week start date\")\n",
        "\n",
        "ax2 = ax1.twinx()\n",
        "post_count_ili_df.plot(y = 'ili_case', ax = ax2, color = \"C1\")\n",
        "ax2.set_ylabel(\"ILI case count\", color = 'C1')"
      ],
      "id": "e38a1ad8",
      "execution_count": null,
      "outputs": []
    },
    {
      "cell_type": "markdown",
      "metadata": {},
      "source": [
        ":::\n",
        "\n",
        "::: {.column}\n",
        "\n",
        "### Correlation\n"
      ],
      "id": "e72808f7"
    },
    {
      "cell_type": "code",
      "metadata": {},
      "source": [
        "#| output: true\n",
        "post_count_ili_df[['grippe_posts', 'rest_posts', 'ili_case']].corr()"
      ],
      "id": "68b04564",
      "execution_count": null,
      "outputs": []
    },
    {
      "cell_type": "markdown",
      "metadata": {},
      "source": [
        ":::\n",
        "\n",
        "::: \n",
        "\n",
        "## Normalized post counts\n",
        "\n",
        "::: {.columns}\n",
        "\n",
        "::: {.column}\n"
      ],
      "id": "a85f0e67"
    },
    {
      "cell_type": "code",
      "metadata": {},
      "source": [
        "#| output: true\n",
        "ax1 = post_count_ili_df.plot( y = 'norm_post_count', color = 'C0')\n",
        "ax1.set_ylabel(\"bsky post counts\", color = 'C0')\n",
        "ax1.set_xlabel(\"week start date\")\n",
        "\n",
        "ax2 = ax1.twinx()\n",
        "post_count_ili_df.plot(y = 'ili_incidence', ax = ax2, color = \"C1\")\n",
        "ax2.set_ylabel(\"ILI incidence\", color = 'C1')"
      ],
      "id": "98139b83",
      "execution_count": null,
      "outputs": []
    },
    {
      "cell_type": "markdown",
      "metadata": {},
      "source": [
        ":::\n",
        "\n",
        "::: {.column}\n",
        "\n",
        "### Correlation\n"
      ],
      "id": "7b7ef522"
    },
    {
      "cell_type": "code",
      "metadata": {},
      "source": [
        "#| output: true\n",
        "post_count_ili_df[['norm_post_count', 'rest_posts', 'ili_case']].corr().round(3)"
      ],
      "id": "b79aa06b",
      "execution_count": null,
      "outputs": []
    },
    {
      "cell_type": "markdown",
      "metadata": {},
      "source": [
        ":::\n",
        "\n",
        "::: \n",
        "\n",
        "**It is not as simple as that .... :/**\n",
        "\n",
        "## LLM annotated post counts, raw\n",
        "\n",
        "::: {.columns}\n",
        "\n",
        "::: {.column}\n"
      ],
      "id": "0aeaf21f"
    },
    {
      "cell_type": "code",
      "metadata": {},
      "source": [
        "#| output: true\n",
        "ax1 = llm_ili_df.plot( y = 'post_count', color = 'C0')\n",
        "ax1.set_ylabel(\"bsky post counts\", color = 'C0')\n",
        "ax1.set_xlabel(\"week start date\")\n",
        "\n",
        "ax2 = ax1.twinx()\n",
        "llm_ili_df.plot(y = 'ili_case', ax = ax2, color = \"C1\")\n",
        "ax2.set_ylabel(\"ILI case count\", color = 'C1')"
      ],
      "id": "8e309d19",
      "execution_count": null,
      "outputs": []
    },
    {
      "cell_type": "markdown",
      "metadata": {},
      "source": [
        ":::\n",
        "\n",
        "::: {.column}\n",
        "\n",
        "### Correlation\n"
      ],
      "id": "b4661995"
    },
    {
      "cell_type": "code",
      "metadata": {},
      "source": [
        "#| output: true\n",
        "llm_ili_df.corr().round(3)"
      ],
      "id": "2110a8d0",
      "execution_count": null,
      "outputs": []
    },
    {
      "cell_type": "markdown",
      "metadata": {},
      "source": [
        ":::\n",
        "\n",
        "::: \n",
        "\n",
        "## Bibliography {#refs}"
      ],
      "id": "53c9f34e"
    }
  ],
  "metadata": {
    "kernelspec": {
      "name": "digepi",
      "language": "python",
      "display_name": "digepi",
      "path": "/home/kantundpeterpan/.local/share/jupyter/kernels/digepi"
    }
  },
  "nbformat": 4,
  "nbformat_minor": 5
}